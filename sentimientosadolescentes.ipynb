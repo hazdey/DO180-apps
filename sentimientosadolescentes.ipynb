{
  "nbformat": 4,
  "nbformat_minor": 0,
  "metadata": {
    "colab": {
      "provenance": [],
      "toc_visible": true,
      "authorship_tag": "ABX9TyPtnInYvFoKAhwJ9kFh4bD5",
      "include_colab_link": true
    },
    "kernelspec": {
      "name": "python3",
      "display_name": "Python 3"
    },
    "language_info": {
      "name": "python"
    }
  },
  "cells": [
    {
      "cell_type": "markdown",
      "metadata": {
        "id": "view-in-github",
        "colab_type": "text"
      },
      "source": [
        "<a href=\"https://colab.research.google.com/github/hazdey/DO180-apps/blob/master/sentimientosadolescentes.ipynb\" target=\"_parent\"><img src=\"https://colab.research.google.com/assets/colab-badge.svg\" alt=\"Open In Colab\"/></a>"
      ]
    },
    {
      "cell_type": "code",
      "execution_count": null,
      "metadata": {
        "id": "FPLmC883AFpb"
      },
      "outputs": [],
      "source": []
    },
    {
      "cell_type": "markdown",
      "source": [
        "Sentimientos Adolescentes"
      ],
      "metadata": {
        "id": "kjLGcimpAKbJ"
      }
    },
    {
      "cell_type": "markdown",
      "source": [
        "# New Section"
      ],
      "metadata": {
        "id": "Jj694g1nAQLe"
      }
    },
    {
      "cell_type": "markdown",
      "source": [
        "# Repositorio de Datos: Sentimientos de Adolescentes sobre su Desarrollo Estudiantil\n",
        "\n",
        "Este repositorio contiene un dataset simulado de 2000 adolescentes (entre 12 y 18 años), con comentarios únicos sobre su experiencia y desarrollo en el ámbito escolar.\n",
        "\n",
        "## 🔍 Detalles del Dataset\n",
        "\n",
        "- **Estudiantes:** 2000\n",
        "- **Edad:** Entre 12 y 18 años\n",
        "- **Género:** F, M, Otro\n",
        "- **Nivel académico:** De 1° a 5° de secundaria\n",
        "- **Campos incluidos:**\n",
        "  - `id_estudiante`\n",
        "  - `edad`\n",
        "  - `genero`\n",
        "  - `nivel_academico`\n",
        "  - `emocion_dominante`\n",
        "  - `motivacion` (1-10)\n",
        "  - `relaciones_sociales` (1-10)\n",
        "  - `comentario_libre`\n",
        "\n",
        "## 📁 Archivos\n",
        "\n",
        "- `datos/sentimientos_2000_estudiantes.csv`: contiene el dataset principal\n",
        "- `scripts/generar_datos.py`: script en Python para generar el dataset de manera reproducible\n"
      ],
      "metadata": {
        "id": "39PtIjeYAYY5"
      }
    }
  ]
}